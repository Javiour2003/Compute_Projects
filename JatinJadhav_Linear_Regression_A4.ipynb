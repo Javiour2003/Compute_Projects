{
  "nbformat": 4,
  "nbformat_minor": 0,
  "metadata": {
    "colab": {
      "provenance": [],
      "include_colab_link": true
    },
    "kernelspec": {
      "name": "python3",
      "display_name": "Python 3"
    },
    "language_info": {
      "name": "python"
    }
  },
  "cells": [
    {
      "cell_type": "markdown",
      "metadata": {
        "id": "view-in-github",
        "colab_type": "text"
      },
      "source": [
        "<a href=\"https://colab.research.google.com/github/Javiour2003/Compute_Tasks/blob/main/JatinJadhav_Linear_Regression_A4.ipynb\" target=\"_parent\"><img src=\"https://colab.research.google.com/assets/colab-badge.svg\" alt=\"Open In Colab\"/></a>"
      ]
    },
    {
      "cell_type": "markdown",
      "source": [
        "# Linear Regression\n",
        "Implementing Linear Regression for predicting profit of a food truck given the population and profits of different cities\n"
      ],
      "metadata": {
        "id": "XbA5XjSilR4j"
      }
    },
    {
      "cell_type": "code",
      "execution_count": 1,
      "metadata": {
        "id": "5_cw35relJgl"
      },
      "outputs": [],
      "source": [
        "import os\n",
        "import pandas as pd\n",
        "import numpy as np\n",
        "import matplotlib.pyplot as plt\n",
        "%matplotlib inline\n",
        "from sklearn.linear_model import LinearRegression\n",
        "from sklearn.metrics import r2_score,mean_squared_error\n"
      ]
    },
    {
      "cell_type": "code",
      "source": [
        "#in dataset both the column has values in multiple of 10k"
      ],
      "metadata": {
        "id": "36GyLOkigQAq"
      },
      "execution_count": null,
      "outputs": []
    },
    {
      "cell_type": "markdown",
      "source": [
        "### Reading the dataset"
      ],
      "metadata": {
        "id": "6WCVaXe8lll3"
      }
    },
    {
      "cell_type": "code",
      "source": [
        "#load dataset\n",
        "df=pd.read_csv(\"/content/Data1.txt\",names=['Population_in_10k','Profit_in_10k'])\n",
        "df"
      ],
      "metadata": {
        "id": "i4huSnTRloPT",
        "outputId": "489fa76e-43f1-4000-9132-82d6d189bc14",
        "colab": {
          "base_uri": "https://localhost:8080/",
          "height": 424
        }
      },
      "execution_count": 2,
      "outputs": [
        {
          "output_type": "execute_result",
          "data": {
            "text/plain": [
              "    Population_in_10k  Profit_in_10k\n",
              "0              6.1101       17.59200\n",
              "1              5.5277        9.13020\n",
              "2              8.5186       13.66200\n",
              "3              7.0032       11.85400\n",
              "4              5.8598        6.82330\n",
              "..                ...            ...\n",
              "92             5.8707        7.20290\n",
              "93             5.3054        1.98690\n",
              "94             8.2934        0.14454\n",
              "95            13.3940        9.05510\n",
              "96             5.4369        0.61705\n",
              "\n",
              "[97 rows x 2 columns]"
            ],
            "text/html": [
              "\n",
              "  <div id=\"df-8d81b160-28ed-4a65-994d-95afc31634ce\">\n",
              "    <div class=\"colab-df-container\">\n",
              "      <div>\n",
              "<style scoped>\n",
              "    .dataframe tbody tr th:only-of-type {\n",
              "        vertical-align: middle;\n",
              "    }\n",
              "\n",
              "    .dataframe tbody tr th {\n",
              "        vertical-align: top;\n",
              "    }\n",
              "\n",
              "    .dataframe thead th {\n",
              "        text-align: right;\n",
              "    }\n",
              "</style>\n",
              "<table border=\"1\" class=\"dataframe\">\n",
              "  <thead>\n",
              "    <tr style=\"text-align: right;\">\n",
              "      <th></th>\n",
              "      <th>Population_in_10k</th>\n",
              "      <th>Profit_in_10k</th>\n",
              "    </tr>\n",
              "  </thead>\n",
              "  <tbody>\n",
              "    <tr>\n",
              "      <th>0</th>\n",
              "      <td>6.1101</td>\n",
              "      <td>17.59200</td>\n",
              "    </tr>\n",
              "    <tr>\n",
              "      <th>1</th>\n",
              "      <td>5.5277</td>\n",
              "      <td>9.13020</td>\n",
              "    </tr>\n",
              "    <tr>\n",
              "      <th>2</th>\n",
              "      <td>8.5186</td>\n",
              "      <td>13.66200</td>\n",
              "    </tr>\n",
              "    <tr>\n",
              "      <th>3</th>\n",
              "      <td>7.0032</td>\n",
              "      <td>11.85400</td>\n",
              "    </tr>\n",
              "    <tr>\n",
              "      <th>4</th>\n",
              "      <td>5.8598</td>\n",
              "      <td>6.82330</td>\n",
              "    </tr>\n",
              "    <tr>\n",
              "      <th>...</th>\n",
              "      <td>...</td>\n",
              "      <td>...</td>\n",
              "    </tr>\n",
              "    <tr>\n",
              "      <th>92</th>\n",
              "      <td>5.8707</td>\n",
              "      <td>7.20290</td>\n",
              "    </tr>\n",
              "    <tr>\n",
              "      <th>93</th>\n",
              "      <td>5.3054</td>\n",
              "      <td>1.98690</td>\n",
              "    </tr>\n",
              "    <tr>\n",
              "      <th>94</th>\n",
              "      <td>8.2934</td>\n",
              "      <td>0.14454</td>\n",
              "    </tr>\n",
              "    <tr>\n",
              "      <th>95</th>\n",
              "      <td>13.3940</td>\n",
              "      <td>9.05510</td>\n",
              "    </tr>\n",
              "    <tr>\n",
              "      <th>96</th>\n",
              "      <td>5.4369</td>\n",
              "      <td>0.61705</td>\n",
              "    </tr>\n",
              "  </tbody>\n",
              "</table>\n",
              "<p>97 rows × 2 columns</p>\n",
              "</div>\n",
              "      <button class=\"colab-df-convert\" onclick=\"convertToInteractive('df-8d81b160-28ed-4a65-994d-95afc31634ce')\"\n",
              "              title=\"Convert this dataframe to an interactive table.\"\n",
              "              style=\"display:none;\">\n",
              "        \n",
              "  <svg xmlns=\"http://www.w3.org/2000/svg\" height=\"24px\"viewBox=\"0 0 24 24\"\n",
              "       width=\"24px\">\n",
              "    <path d=\"M0 0h24v24H0V0z\" fill=\"none\"/>\n",
              "    <path d=\"M18.56 5.44l.94 2.06.94-2.06 2.06-.94-2.06-.94-.94-2.06-.94 2.06-2.06.94zm-11 1L8.5 8.5l.94-2.06 2.06-.94-2.06-.94L8.5 2.5l-.94 2.06-2.06.94zm10 10l.94 2.06.94-2.06 2.06-.94-2.06-.94-.94-2.06-.94 2.06-2.06.94z\"/><path d=\"M17.41 7.96l-1.37-1.37c-.4-.4-.92-.59-1.43-.59-.52 0-1.04.2-1.43.59L10.3 9.45l-7.72 7.72c-.78.78-.78 2.05 0 2.83L4 21.41c.39.39.9.59 1.41.59.51 0 1.02-.2 1.41-.59l7.78-7.78 2.81-2.81c.8-.78.8-2.07 0-2.86zM5.41 20L4 18.59l7.72-7.72 1.47 1.35L5.41 20z\"/>\n",
              "  </svg>\n",
              "      </button>\n",
              "      \n",
              "  <style>\n",
              "    .colab-df-container {\n",
              "      display:flex;\n",
              "      flex-wrap:wrap;\n",
              "      gap: 12px;\n",
              "    }\n",
              "\n",
              "    .colab-df-convert {\n",
              "      background-color: #E8F0FE;\n",
              "      border: none;\n",
              "      border-radius: 50%;\n",
              "      cursor: pointer;\n",
              "      display: none;\n",
              "      fill: #1967D2;\n",
              "      height: 32px;\n",
              "      padding: 0 0 0 0;\n",
              "      width: 32px;\n",
              "    }\n",
              "\n",
              "    .colab-df-convert:hover {\n",
              "      background-color: #E2EBFA;\n",
              "      box-shadow: 0px 1px 2px rgba(60, 64, 67, 0.3), 0px 1px 3px 1px rgba(60, 64, 67, 0.15);\n",
              "      fill: #174EA6;\n",
              "    }\n",
              "\n",
              "    [theme=dark] .colab-df-convert {\n",
              "      background-color: #3B4455;\n",
              "      fill: #D2E3FC;\n",
              "    }\n",
              "\n",
              "    [theme=dark] .colab-df-convert:hover {\n",
              "      background-color: #434B5C;\n",
              "      box-shadow: 0px 1px 3px 1px rgba(0, 0, 0, 0.15);\n",
              "      filter: drop-shadow(0px 1px 2px rgba(0, 0, 0, 0.3));\n",
              "      fill: #FFFFFF;\n",
              "    }\n",
              "  </style>\n",
              "\n",
              "      <script>\n",
              "        const buttonEl =\n",
              "          document.querySelector('#df-8d81b160-28ed-4a65-994d-95afc31634ce button.colab-df-convert');\n",
              "        buttonEl.style.display =\n",
              "          google.colab.kernel.accessAllowed ? 'block' : 'none';\n",
              "\n",
              "        async function convertToInteractive(key) {\n",
              "          const element = document.querySelector('#df-8d81b160-28ed-4a65-994d-95afc31634ce');\n",
              "          const dataTable =\n",
              "            await google.colab.kernel.invokeFunction('convertToInteractive',\n",
              "                                                     [key], {});\n",
              "          if (!dataTable) return;\n",
              "\n",
              "          const docLinkHtml = 'Like what you see? Visit the ' +\n",
              "            '<a target=\"_blank\" href=https://colab.research.google.com/notebooks/data_table.ipynb>data table notebook</a>'\n",
              "            + ' to learn more about interactive tables.';\n",
              "          element.innerHTML = '';\n",
              "          dataTable['output_type'] = 'display_data';\n",
              "          await google.colab.output.renderOutput(dataTable, element);\n",
              "          const docLink = document.createElement('div');\n",
              "          docLink.innerHTML = docLinkHtml;\n",
              "          element.appendChild(docLink);\n",
              "        }\n",
              "      </script>\n",
              "    </div>\n",
              "  </div>\n",
              "  "
            ]
          },
          "metadata": {},
          "execution_count": 2
        }
      ]
    },
    {
      "cell_type": "code",
      "source": [
        "#describe the dataframe\n",
        "df.describe()"
      ],
      "metadata": {
        "id": "JgiJnNwDlpRM",
        "outputId": "e3d24956-f98e-4205-eb89-81600a308582",
        "colab": {
          "base_uri": "https://localhost:8080/",
          "height": 300
        }
      },
      "execution_count": 3,
      "outputs": [
        {
          "output_type": "execute_result",
          "data": {
            "text/plain": [
              "       Population_in_10k  Profit_in_10k\n",
              "count          97.000000      97.000000\n",
              "mean            8.159800       5.839135\n",
              "std             3.869884       5.510262\n",
              "min             5.026900      -2.680700\n",
              "25%             5.707700       1.986900\n",
              "50%             6.589400       4.562300\n",
              "75%             8.578100       7.046700\n",
              "max            22.203000      24.147000"
            ],
            "text/html": [
              "\n",
              "  <div id=\"df-96a9f1e8-9770-43ec-b9db-b5591095ff34\">\n",
              "    <div class=\"colab-df-container\">\n",
              "      <div>\n",
              "<style scoped>\n",
              "    .dataframe tbody tr th:only-of-type {\n",
              "        vertical-align: middle;\n",
              "    }\n",
              "\n",
              "    .dataframe tbody tr th {\n",
              "        vertical-align: top;\n",
              "    }\n",
              "\n",
              "    .dataframe thead th {\n",
              "        text-align: right;\n",
              "    }\n",
              "</style>\n",
              "<table border=\"1\" class=\"dataframe\">\n",
              "  <thead>\n",
              "    <tr style=\"text-align: right;\">\n",
              "      <th></th>\n",
              "      <th>Population_in_10k</th>\n",
              "      <th>Profit_in_10k</th>\n",
              "    </tr>\n",
              "  </thead>\n",
              "  <tbody>\n",
              "    <tr>\n",
              "      <th>count</th>\n",
              "      <td>97.000000</td>\n",
              "      <td>97.000000</td>\n",
              "    </tr>\n",
              "    <tr>\n",
              "      <th>mean</th>\n",
              "      <td>8.159800</td>\n",
              "      <td>5.839135</td>\n",
              "    </tr>\n",
              "    <tr>\n",
              "      <th>std</th>\n",
              "      <td>3.869884</td>\n",
              "      <td>5.510262</td>\n",
              "    </tr>\n",
              "    <tr>\n",
              "      <th>min</th>\n",
              "      <td>5.026900</td>\n",
              "      <td>-2.680700</td>\n",
              "    </tr>\n",
              "    <tr>\n",
              "      <th>25%</th>\n",
              "      <td>5.707700</td>\n",
              "      <td>1.986900</td>\n",
              "    </tr>\n",
              "    <tr>\n",
              "      <th>50%</th>\n",
              "      <td>6.589400</td>\n",
              "      <td>4.562300</td>\n",
              "    </tr>\n",
              "    <tr>\n",
              "      <th>75%</th>\n",
              "      <td>8.578100</td>\n",
              "      <td>7.046700</td>\n",
              "    </tr>\n",
              "    <tr>\n",
              "      <th>max</th>\n",
              "      <td>22.203000</td>\n",
              "      <td>24.147000</td>\n",
              "    </tr>\n",
              "  </tbody>\n",
              "</table>\n",
              "</div>\n",
              "      <button class=\"colab-df-convert\" onclick=\"convertToInteractive('df-96a9f1e8-9770-43ec-b9db-b5591095ff34')\"\n",
              "              title=\"Convert this dataframe to an interactive table.\"\n",
              "              style=\"display:none;\">\n",
              "        \n",
              "  <svg xmlns=\"http://www.w3.org/2000/svg\" height=\"24px\"viewBox=\"0 0 24 24\"\n",
              "       width=\"24px\">\n",
              "    <path d=\"M0 0h24v24H0V0z\" fill=\"none\"/>\n",
              "    <path d=\"M18.56 5.44l.94 2.06.94-2.06 2.06-.94-2.06-.94-.94-2.06-.94 2.06-2.06.94zm-11 1L8.5 8.5l.94-2.06 2.06-.94-2.06-.94L8.5 2.5l-.94 2.06-2.06.94zm10 10l.94 2.06.94-2.06 2.06-.94-2.06-.94-.94-2.06-.94 2.06-2.06.94z\"/><path d=\"M17.41 7.96l-1.37-1.37c-.4-.4-.92-.59-1.43-.59-.52 0-1.04.2-1.43.59L10.3 9.45l-7.72 7.72c-.78.78-.78 2.05 0 2.83L4 21.41c.39.39.9.59 1.41.59.51 0 1.02-.2 1.41-.59l7.78-7.78 2.81-2.81c.8-.78.8-2.07 0-2.86zM5.41 20L4 18.59l7.72-7.72 1.47 1.35L5.41 20z\"/>\n",
              "  </svg>\n",
              "      </button>\n",
              "      \n",
              "  <style>\n",
              "    .colab-df-container {\n",
              "      display:flex;\n",
              "      flex-wrap:wrap;\n",
              "      gap: 12px;\n",
              "    }\n",
              "\n",
              "    .colab-df-convert {\n",
              "      background-color: #E8F0FE;\n",
              "      border: none;\n",
              "      border-radius: 50%;\n",
              "      cursor: pointer;\n",
              "      display: none;\n",
              "      fill: #1967D2;\n",
              "      height: 32px;\n",
              "      padding: 0 0 0 0;\n",
              "      width: 32px;\n",
              "    }\n",
              "\n",
              "    .colab-df-convert:hover {\n",
              "      background-color: #E2EBFA;\n",
              "      box-shadow: 0px 1px 2px rgba(60, 64, 67, 0.3), 0px 1px 3px 1px rgba(60, 64, 67, 0.15);\n",
              "      fill: #174EA6;\n",
              "    }\n",
              "\n",
              "    [theme=dark] .colab-df-convert {\n",
              "      background-color: #3B4455;\n",
              "      fill: #D2E3FC;\n",
              "    }\n",
              "\n",
              "    [theme=dark] .colab-df-convert:hover {\n",
              "      background-color: #434B5C;\n",
              "      box-shadow: 0px 1px 3px 1px rgba(0, 0, 0, 0.15);\n",
              "      filter: drop-shadow(0px 1px 2px rgba(0, 0, 0, 0.3));\n",
              "      fill: #FFFFFF;\n",
              "    }\n",
              "  </style>\n",
              "\n",
              "      <script>\n",
              "        const buttonEl =\n",
              "          document.querySelector('#df-96a9f1e8-9770-43ec-b9db-b5591095ff34 button.colab-df-convert');\n",
              "        buttonEl.style.display =\n",
              "          google.colab.kernel.accessAllowed ? 'block' : 'none';\n",
              "\n",
              "        async function convertToInteractive(key) {\n",
              "          const element = document.querySelector('#df-96a9f1e8-9770-43ec-b9db-b5591095ff34');\n",
              "          const dataTable =\n",
              "            await google.colab.kernel.invokeFunction('convertToInteractive',\n",
              "                                                     [key], {});\n",
              "          if (!dataTable) return;\n",
              "\n",
              "          const docLinkHtml = 'Like what you see? Visit the ' +\n",
              "            '<a target=\"_blank\" href=https://colab.research.google.com/notebooks/data_table.ipynb>data table notebook</a>'\n",
              "            + ' to learn more about interactive tables.';\n",
              "          element.innerHTML = '';\n",
              "          dataTable['output_type'] = 'display_data';\n",
              "          await google.colab.output.renderOutput(dataTable, element);\n",
              "          const docLink = document.createElement('div');\n",
              "          docLink.innerHTML = docLinkHtml;\n",
              "          element.appendChild(docLink);\n",
              "        }\n",
              "      </script>\n",
              "    </div>\n",
              "  </div>\n",
              "  "
            ]
          },
          "metadata": {},
          "execution_count": 3
        }
      ]
    },
    {
      "cell_type": "markdown",
      "source": [
        "### Scatter plot of Population vs Profit"
      ],
      "metadata": {
        "id": "-utpyHE8l8XX"
      }
    },
    {
      "cell_type": "code",
      "source": [
        "#plot"
      ],
      "metadata": {
        "id": "WU2e_EBIl7nO"
      },
      "execution_count": 26,
      "outputs": []
    },
    {
      "cell_type": "code",
      "source": [
        "plt.scatter(df['Population_in_10k'],df['Profit_in_10k'])\n",
        "plt.xlabel='Population_in_10k'\n",
        "plt.ylabel='Profit_in_10k'\n",
        "plt.legend\n",
        "plt.show()"
      ],
      "metadata": {
        "id": "U89MM9l2mQF6",
        "outputId": "dccfd43e-d6a2-4ecd-daa0-833c98268fb2",
        "colab": {
          "base_uri": "https://localhost:8080/",
          "height": 266
        }
      },
      "execution_count": 4,
      "outputs": [
        {
          "output_type": "display_data",
          "data": {
            "text/plain": [
              "<Figure size 432x288 with 1 Axes>"
            ],
            "image/png": "[encoded data removed]"
          },
          "metadata": {
            "needs_background": "light"
          }
        }
      ]
    },
    {
      "cell_type": "markdown",
      "source": [
        "### Function to compute the cost function "
      ],
      "metadata": {
        "id": "iGFXAq_YoWZq"
      }
    },
    {
      "cell_type": "code",
      "source": [
        "### Function to compute the cost function "
      ],
      "metadata": {
        "id": "_8d1sdJmoVGb"
      },
      "execution_count": null,
      "outputs": []
    },
    {
      "cell_type": "code",
      "source": [
        "def computeCost(X, y, theta):\n",
        "    inner_product = np.power(((X * theta.T) - y) , 2)\n",
        "    return np.sum(inner_product) / (2 * len(X))"
      ],
      "metadata": {
        "id": "Az8pJnBMoa1N"
      },
      "execution_count": 5,
      "outputs": []
    },
    {
      "cell_type": "markdown",
      "source": [
        "### Appending 1s to the front of the dataset"
      ],
      "metadata": {
        "id": "v31Nvikf2xYm"
      }
    },
    {
      "cell_type": "code",
      "source": [
        "#insert column with 1s\n",
        "l=np.ones(len(df))\n",
        "df.insert(0,'Ones',l)\n",
        "df"
      ],
      "metadata": {
        "id": "XQlQ0VvR23gJ",
        "outputId": "28e49dbd-b151-4256-c3db-ca39f4ad8b78",
        "colab": {
          "base_uri": "https://localhost:8080/",
          "height": 424
        }
      },
      "execution_count": 6,
      "outputs": [
        {
          "output_type": "execute_result",
          "data": {
            "text/plain": [
              "    Ones  Population_in_10k  Profit_in_10k\n",
              "0    1.0             6.1101       17.59200\n",
              "1    1.0             5.5277        9.13020\n",
              "2    1.0             8.5186       13.66200\n",
              "3    1.0             7.0032       11.85400\n",
              "4    1.0             5.8598        6.82330\n",
              "..   ...                ...            ...\n",
              "92   1.0             5.8707        7.20290\n",
              "93   1.0             5.3054        1.98690\n",
              "94   1.0             8.2934        0.14454\n",
              "95   1.0            13.3940        9.05510\n",
              "96   1.0             5.4369        0.61705\n",
              "\n",
              "[97 rows x 3 columns]"
            ],
            "text/html": [
              "\n",
              "  <div id=\"df-47492ebd-eb24-4955-a9b6-8bb62e742176\">\n",
              "    <div class=\"colab-df-container\">\n",
              "      <div>\n",
              "<style scoped>\n",
              "    .dataframe tbody tr th:only-of-type {\n",
              "        vertical-align: middle;\n",
              "    }\n",
              "\n",
              "    .dataframe tbody tr th {\n",
              "        vertical-align: top;\n",
              "    }\n",
              "\n",
              "    .dataframe thead th {\n",
              "        text-align: right;\n",
              "    }\n",
              "</style>\n",
              "<table border=\"1\" class=\"dataframe\">\n",
              "  <thead>\n",
              "    <tr style=\"text-align: right;\">\n",
              "      <th></th>\n",
              "      <th>Ones</th>\n",
              "      <th>Population_in_10k</th>\n",
              "      <th>Profit_in_10k</th>\n",
              "    </tr>\n",
              "  </thead>\n",
              "  <tbody>\n",
              "    <tr>\n",
              "      <th>0</th>\n",
              "      <td>1.0</td>\n",
              "      <td>6.1101</td>\n",
              "      <td>17.59200</td>\n",
              "    </tr>\n",
              "    <tr>\n",
              "      <th>1</th>\n",
              "      <td>1.0</td>\n",
              "      <td>5.5277</td>\n",
              "      <td>9.13020</td>\n",
              "    </tr>\n",
              "    <tr>\n",
              "      <th>2</th>\n",
              "      <td>1.0</td>\n",
              "      <td>8.5186</td>\n",
              "      <td>13.66200</td>\n",
              "    </tr>\n",
              "    <tr>\n",
              "      <th>3</th>\n",
              "      <td>1.0</td>\n",
              "      <td>7.0032</td>\n",
              "      <td>11.85400</td>\n",
              "    </tr>\n",
              "    <tr>\n",
              "      <th>4</th>\n",
              "      <td>1.0</td>\n",
              "      <td>5.8598</td>\n",
              "      <td>6.82330</td>\n",
              "    </tr>\n",
              "    <tr>\n",
              "      <th>...</th>\n",
              "      <td>...</td>\n",
              "      <td>...</td>\n",
              "      <td>...</td>\n",
              "    </tr>\n",
              "    <tr>\n",
              "      <th>92</th>\n",
              "      <td>1.0</td>\n",
              "      <td>5.8707</td>\n",
              "      <td>7.20290</td>\n",
              "    </tr>\n",
              "    <tr>\n",
              "      <th>93</th>\n",
              "      <td>1.0</td>\n",
              "      <td>5.3054</td>\n",
              "      <td>1.98690</td>\n",
              "    </tr>\n",
              "    <tr>\n",
              "      <th>94</th>\n",
              "      <td>1.0</td>\n",
              "      <td>8.2934</td>\n",
              "      <td>0.14454</td>\n",
              "    </tr>\n",
              "    <tr>\n",
              "      <th>95</th>\n",
              "      <td>1.0</td>\n",
              "      <td>13.3940</td>\n",
              "      <td>9.05510</td>\n",
              "    </tr>\n",
              "    <tr>\n",
              "      <th>96</th>\n",
              "      <td>1.0</td>\n",
              "      <td>5.4369</td>\n",
              "      <td>0.61705</td>\n",
              "    </tr>\n",
              "  </tbody>\n",
              "</table>\n",
              "<p>97 rows × 3 columns</p>\n",
              "</div>\n",
              "      <button class=\"colab-df-convert\" onclick=\"convertToInteractive('df-47492ebd-eb24-4955-a9b6-8bb62e742176')\"\n",
              "              title=\"Convert this dataframe to an interactive table.\"\n",
              "              style=\"display:none;\">\n",
              "        \n",
              "  <svg xmlns=\"http://www.w3.org/2000/svg\" height=\"24px\"viewBox=\"0 0 24 24\"\n",
              "       width=\"24px\">\n",
              "    <path d=\"M0 0h24v24H0V0z\" fill=\"none\"/>\n",
              "    <path d=\"M18.56 5.44l.94 2.06.94-2.06 2.06-.94-2.06-.94-.94-2.06-.94 2.06-2.06.94zm-11 1L8.5 8.5l.94-2.06 2.06-.94-2.06-.94L8.5 2.5l-.94 2.06-2.06.94zm10 10l.94 2.06.94-2.06 2.06-.94-2.06-.94-.94-2.06-.94 2.06-2.06.94z\"/><path d=\"M17.41 7.96l-1.37-1.37c-.4-.4-.92-.59-1.43-.59-.52 0-1.04.2-1.43.59L10.3 9.45l-7.72 7.72c-.78.78-.78 2.05 0 2.83L4 21.41c.39.39.9.59 1.41.59.51 0 1.02-.2 1.41-.59l7.78-7.78 2.81-2.81c.8-.78.8-2.07 0-2.86zM5.41 20L4 18.59l7.72-7.72 1.47 1.35L5.41 20z\"/>\n",
              "  </svg>\n",
              "      </button>\n",
              "      \n",
              "  <style>\n",
              "    .colab-df-container {\n",
              "      display:flex;\n",
              "      flex-wrap:wrap;\n",
              "      gap: 12px;\n",
              "    }\n",
              "\n",
              "    .colab-df-convert {\n",
              "      background-color: #E8F0FE;\n",
              "      border: none;\n",
              "      border-radius: 50%;\n",
              "      cursor: pointer;\n",
              "      display: none;\n",
              "      fill: #1967D2;\n",
              "      height: 32px;\n",
              "      padding: 0 0 0 0;\n",
              "      width: 32px;\n",
              "    }\n",
              "\n",
              "    .colab-df-convert:hover {\n",
              "      background-color: #E2EBFA;\n",
              "      box-shadow: 0px 1px 2px rgba(60, 64, 67, 0.3), 0px 1px 3px 1px rgba(60, 64, 67, 0.15);\n",
              "      fill: #174EA6;\n",
              "    }\n",
              "\n",
              "    [theme=dark] .colab-df-convert {\n",
              "      background-color: #3B4455;\n",
              "      fill: #D2E3FC;\n",
              "    }\n",
              "\n",
              "    [theme=dark] .colab-df-convert:hover {\n",
              "      background-color: #434B5C;\n",
              "      box-shadow: 0px 1px 3px 1px rgba(0, 0, 0, 0.15);\n",
              "      filter: drop-shadow(0px 1px 2px rgba(0, 0, 0, 0.3));\n",
              "      fill: #FFFFFF;\n",
              "    }\n",
              "  </style>\n",
              "\n",
              "      <script>\n",
              "        const buttonEl =\n",
              "          document.querySelector('#df-47492ebd-eb24-4955-a9b6-8bb62e742176 button.colab-df-convert');\n",
              "        buttonEl.style.display =\n",
              "          google.colab.kernel.accessAllowed ? 'block' : 'none';\n",
              "\n",
              "        async function convertToInteractive(key) {\n",
              "          const element = document.querySelector('#df-47492ebd-eb24-4955-a9b6-8bb62e742176');\n",
              "          const dataTable =\n",
              "            await google.colab.kernel.invokeFunction('convertToInteractive',\n",
              "                                                     [key], {});\n",
              "          if (!dataTable) return;\n",
              "\n",
              "          const docLinkHtml = 'Like what you see? Visit the ' +\n",
              "            '<a target=\"_blank\" href=https://colab.research.google.com/notebooks/data_table.ipynb>data table notebook</a>'\n",
              "            + ' to learn more about interactive tables.';\n",
              "          element.innerHTML = '';\n",
              "          dataTable['output_type'] = 'display_data';\n",
              "          await google.colab.output.renderOutput(dataTable, element);\n",
              "          const docLink = document.createElement('div');\n",
              "          docLink.innerHTML = docLinkHtml;\n",
              "          element.appendChild(docLink);\n",
              "        }\n",
              "      </script>\n",
              "    </div>\n",
              "  </div>\n",
              "  "
            ]
          },
          "metadata": {},
          "execution_count": 6
        }
      ]
    },
    {
      "cell_type": "markdown",
      "source": [
        "### Set training data (X) and target variable (y)"
      ],
      "metadata": {
        "id": "HQbvSZFcsExq"
      }
    },
    {
      "cell_type": "code",
      "source": [
        "cols = df.shape[1]\n",
        "x = df.iloc[:,0:cols-1]\n",
        "y = df.iloc[: , cols-1:cols]\n"
      ],
      "metadata": {
        "id": "WVCVPoznsMms"
      },
      "execution_count": 7,
      "outputs": []
    },
    {
      "cell_type": "code",
      "source": [],
      "metadata": {
        "id": "9b47Z-VUsRAq"
      },
      "execution_count": 11,
      "outputs": []
    },
    {
      "cell_type": "markdown",
      "source": [
        "### Converting dataframe to numpy matrices and creating a parameter (theta) matrix"
      ],
      "metadata": {
        "id": "bY6E4Mc2sSSC"
      }
    },
    {
      "cell_type": "code",
      "source": [
        "#converting X,y into numpy matrix\n",
        "x_mat = np.matrix(x)\n",
        "y_mat = np.matrix(y)\n",
        "x_mat"
      ],
      "metadata": {
        "id": "qr-CsrRAsV0_",
        "colab": {
          "base_uri": "https://localhost:8080/"
        },
        "outputId": "ff683623-7ff9-4ab0-ce4c-5213e85a585b"
      },
      "execution_count": 8,
      "outputs": [
        {
          "output_type": "execute_result",
          "data": {
            "text/plain": [
              "matrix([[ 1.    ,  6.1101],\n",
              "        [ 1.    ,  5.5277],\n",
              "        [ 1.    ,  8.5186],\n",
              "        [ 1.    ,  7.0032],\n",
              "        [ 1.    ,  5.8598],\n",
              "        [ 1.    ,  8.3829],\n",
              "        [ 1.    ,  7.4764],\n",
              "        [ 1.    ,  8.5781],\n",
              "        [ 1.    ,  6.4862],\n",
              "        [ 1.    ,  5.0546],\n",
              "        [ 1.    ,  5.7107],\n",
              "        [ 1.    , 14.164 ],\n",
              "        [ 1.    ,  5.734 ],\n",
              "        [ 1.    ,  8.4084],\n",
              "        [ 1.    ,  5.6407],\n",
              "        [ 1.    ,  5.3794],\n",
              "        [ 1.    ,  6.3654],\n",
              "        [ 1.    ,  5.1301],\n",
              "        [ 1.    ,  6.4296],\n",
              "        [ 1.    ,  7.0708],\n",
              "        [ 1.    ,  6.1891],\n",
              "        [ 1.    , 20.27  ],\n",
              "        [ 1.    ,  5.4901],\n",
              "        [ 1.    ,  6.3261],\n",
              "        [ 1.    ,  5.5649],\n",
              "        [ 1.    , 18.945 ],\n",
              "        [ 1.    , 12.828 ],\n",
              "        [ 1.    , 10.957 ],\n",
              "        [ 1.    , 13.176 ],\n",
              "        [ 1.    , 22.203 ],\n",
              "        [ 1.    ,  5.2524],\n",
              "        [ 1.    ,  6.5894],\n",
              "        [ 1.    ,  9.2482],\n",
              "        [ 1.    ,  5.8918],\n",
              "        [ 1.    ,  8.2111],\n",
              "        [ 1.    ,  7.9334],\n",
              "        [ 1.    ,  8.0959],\n",
              "        [ 1.    ,  5.6063],\n",
              "        [ 1.    , 12.836 ],\n",
              "        [ 1.    ,  6.3534],\n",
              "        [ 1.    ,  5.4069],\n",
              "        [ 1.    ,  6.8825],\n",
              "        [ 1.    , 11.708 ],\n",
              "        [ 1.    ,  5.7737],\n",
              "        [ 1.    ,  7.8247],\n",
              "        [ 1.    ,  7.0931],\n",
              "        [ 1.    ,  5.0702],\n",
              "        [ 1.    ,  5.8014],\n",
              "        [ 1.    , 11.7   ],\n",
              "        [ 1.    ,  5.5416],\n",
              "        [ 1.    ,  7.5402],\n",
              "        [ 1.    ,  5.3077],\n",
              "        [ 1.    ,  7.4239],\n",
              "        [ 1.    ,  7.6031],\n",
              "        [ 1.    ,  6.3328],\n",
              "        [ 1.    ,  6.3589],\n",
              "        [ 1.    ,  6.2742],\n",
              "        [ 1.    ,  5.6397],\n",
              "        [ 1.    ,  9.3102],\n",
              "        [ 1.    ,  9.4536],\n",
              "        [ 1.    ,  8.8254],\n",
              "        [ 1.    ,  5.1793],\n",
              "        [ 1.    , 21.279 ],\n",
              "        [ 1.    , 14.908 ],\n",
              "        [ 1.    , 18.959 ],\n",
              "        [ 1.    ,  7.2182],\n",
              "        [ 1.    ,  8.2951],\n",
              "        [ 1.    , 10.236 ],\n",
              "        [ 1.    ,  5.4994],\n",
              "        [ 1.    , 20.341 ],\n",
              "        [ 1.    , 10.136 ],\n",
              "        [ 1.    ,  7.3345],\n",
              "        [ 1.    ,  6.0062],\n",
              "        [ 1.    ,  7.2259],\n",
              "        [ 1.    ,  5.0269],\n",
              "        [ 1.    ,  6.5479],\n",
              "        [ 1.    ,  7.5386],\n",
              "        [ 1.    ,  5.0365],\n",
              "        [ 1.    , 10.274 ],\n",
              "        [ 1.    ,  5.1077],\n",
              "        [ 1.    ,  5.7292],\n",
              "        [ 1.    ,  5.1884],\n",
              "        [ 1.    ,  6.3557],\n",
              "        [ 1.    ,  9.7687],\n",
              "        [ 1.    ,  6.5159],\n",
              "        [ 1.    ,  8.5172],\n",
              "        [ 1.    ,  9.1802],\n",
              "        [ 1.    ,  6.002 ],\n",
              "        [ 1.    ,  5.5204],\n",
              "        [ 1.    ,  5.0594],\n",
              "        [ 1.    ,  5.7077],\n",
              "        [ 1.    ,  7.6366],\n",
              "        [ 1.    ,  5.8707],\n",
              "        [ 1.    ,  5.3054],\n",
              "        [ 1.    ,  8.2934],\n",
              "        [ 1.    , 13.394 ],\n",
              "        [ 1.    ,  5.4369]])"
            ]
          },
          "metadata": {},
          "execution_count": 8
        }
      ]
    },
    {
      "cell_type": "code",
      "source": [
        "#converting theta into numpy matrix\n",
        "# take initial values as [0,0] for theta\n",
        "theta = np.matrix(np.array([0,0]))\n",
        "\n",
        "print(theta)\n"
      ],
      "metadata": {
        "id": "xgRDEMANaCGu",
        "colab": {
          "base_uri": "https://localhost:8080/"
        },
        "outputId": "3aa8ad85-5cbf-4640-dc04-3f060ec4c696"
      },
      "execution_count": 9,
      "outputs": [
        {
          "output_type": "stream",
          "name": "stdout",
          "text": [
            "[[0 0]]\n"
          ]
        }
      ]
    },
    {
      "cell_type": "code",
      "source": [
        "print(computeCost(x_mat,y_mat,theta))\n"
      ],
      "metadata": {
        "colab": {
          "base_uri": "https://localhost:8080/"
        },
        "id": "J_OeXJ7nAArg",
        "outputId": "987fd232-3ba5-4c92-c054-faac81984cdf"
      },
      "execution_count": 10,
      "outputs": [
        {
          "output_type": "stream",
          "name": "stdout",
          "text": [
            "32.072733877455676\n"
          ]
        }
      ]
    },
    {
      "cell_type": "markdown",
      "source": [
        "### Function to perform gradient descent on parameters theta by repeatedly updating the parameters"
      ],
      "metadata": {
        "id": "cbfeP2qas_4o"
      }
    },
    {
      "cell_type": "code",
      "source": [
        "def gradientDescent(x, y, theta, alpha, iters):\n",
        "    temp = np.matrix(np.zeros(theta.shape))\n",
        "    parameters = int(theta.ravel().shape[1])\n",
        "    cost = np.zeros(iters)\n",
        "    \n",
        "    # With each iteration, we are calculating the changes to be made to the\n",
        "    # parameter (theta) value to reduce the error (cost)\n",
        "    for i in range(iters):\n",
        "        \n",
        "        error = (x *theta.T)-y\n",
        "        # number of parameters to be calculated,here we have 2 parameters theta [0,0] and theta [0,1]\n",
        "        for j in range (parameters):\n",
        "        \n",
        "        \n",
        "            term = np.multiply(error , x[: , j])\n",
        "            temp[0,j] = theta[0,j] - ((alpha /len(x)) *np.sum(term))\n",
        "        \n",
        "        theta = temp\n",
        "        cost[i] = computeCost(x,y,theta)\n",
        "        \n",
        "        \n",
        "    return theta, cost"
      ],
      "metadata": {
        "id": "_8mKXGk8tHKy"
      },
      "execution_count": 11,
      "outputs": []
    },
    {
      "cell_type": "markdown",
      "source": [
        "### Set values for learning rate and number of iterations\n",
        "- alpha here denotes the learning rate that helps to determine how quickly the algorithm\n",
        "    will converge to the optimal solution\n",
        "- iters denotes the number of iterations"
      ],
      "metadata": {
        "id": "Adv1nVcItTJs"
      }
    },
    {
      "cell_type": "code",
      "source": [
        "# take alpha 0.01 \n",
        "# iters=1000\n",
        "alpha = 0.01\n",
        "iters = 1000\n",
        "\n",
        "\n",
        "theta, cost = gradientDescent(x_mat,y_mat,theta,alpha,iters)"
      ],
      "metadata": {
        "id": "FBz7ob7vtRLr"
      },
      "execution_count": 12,
      "outputs": []
    },
    {
      "cell_type": "code",
      "source": [
        "print(theta)\n",
        "#print(cost)"
      ],
      "metadata": {
        "colab": {
          "base_uri": "https://localhost:8080/"
        },
        "id": "zx_lpHba1r_k",
        "outputId": "1ca1039e-3969-4ccd-9271-cbe552a79299"
      },
      "execution_count": 16,
      "outputs": [
        {
          "output_type": "stream",
          "name": "stdout",
          "text": [
            "[[-3.24140214  1.1272942 ]]\n"
          ]
        }
      ]
    },
    {
      "cell_type": "code",
      "source": [
        "cost.shape"
      ],
      "metadata": {
        "colab": {
          "base_uri": "https://localhost:8080/"
        },
        "id": "KhMG5lAtasTp",
        "outputId": "078bc822-5510-49be-f322-83801a34ca21"
      },
      "execution_count": 23,
      "outputs": [
        {
          "output_type": "execute_result",
          "data": {
            "text/plain": [
              "(1000,)"
            ]
          },
          "metadata": {},
          "execution_count": 23
        }
      ]
    },
    {
      "cell_type": "markdown",
      "source": [
        "\n",
        "\n",
        "\n",
        "### Using Matplotlib library to visualize our solution using scatter plot"
      ],
      "metadata": {
        "id": "W3HlzF5pt_0Z"
      }
    },
    {
      "cell_type": "code",
      "source": [
        "# linspace function will create an evenly-spaced series of points within the range of our data\n",
        "x = np.linspace(df.Population_in_10k.min(), df.Population_in_10k.max(), 100)  \n",
        "f = theta[0, 0] + (theta[0, 1] * x)\n",
        "\n",
        "fig, ax = plt.subplots(figsize=(10, 7))  \n",
        "ax.plot(x, f, 'r', label='Prediction')  \n",
        "ax.scatter(df.Population_in_10k, df.Profit_in_10k, label='Training Data')  \n",
        "ax.legend(loc=2)  \n",
        "ax.set_xlabel('Population')  \n",
        "ax.set_ylabel('Profit')  \n",
        "ax.set_title('Predicted Profit vs. Population Size')\n"
      ],
      "metadata": {
        "id": "gXP5psuyuAPr",
        "colab": {
          "base_uri": "https://localhost:8080/",
          "height": 475
        },
        "outputId": "844503db-4e46-4807-a6a7-d288828d3d4b"
      },
      "execution_count": 19,
      "outputs": [
        {
          "output_type": "execute_result",
          "data": {
            "text/plain": [
              "Text(0.5, 1.0, 'Predicted Profit vs. Population Size')"
            ]
          },
          "metadata": {},
          "execution_count": 19
        },
        {
          "output_type": "display_data",
          "data": {
            "text/plain": [
              "<Figure size 720x504 with 1 Axes>"
            ],
            "image/png": "[encoded data removed]"
          },
          "metadata": {
            "needs_background": "light"
          }
        }
      ]
    },
    {
      "cell_type": "code",
      "source": [
        "fig, ax = plt.subplots(figsize = (12, 8))\n",
        "ax.plot(np.arange(iters), cost, 'r')\n",
        "ax.set_xlabel('Iterations')\n",
        "ax.set_ylabel('Cost')\n",
        "ax.set_title('Error vs Training epoch')"
      ],
      "metadata": {
        "id": "iaOPcKBtuG7v",
        "colab": {
          "base_uri": "https://localhost:8080/",
          "height": 530
        },
        "outputId": "deebb733-a395-4787-835f-8fca49ca1e1f"
      },
      "execution_count": 17,
      "outputs": [
        {
          "output_type": "execute_result",
          "data": {
            "text/plain": [
              "Text(0.5, 1.0, 'Error vs Training epoch')"
            ]
          },
          "metadata": {},
          "execution_count": 17
        },
        {
          "output_type": "display_data",
          "data": {
            "text/plain": [
              "<Figure size 864x576 with 1 Axes>"
            ],
            "image/png": "[encoded data removed]"
          },
          "metadata": {
            "needs_background": "light"
          }
        }
      ]
    },
    {
      "cell_type": "markdown",
      "source": [
        "SCIKIT LEARN IMPLEMENTATION\n",
        "\n",
        "-Implement various type of errors,\n",
        " eg.Mean squared error,R_squared_score\n",
        "choose best for the evaluting model,\n",
        "and justify why it is best\n"
      ],
      "metadata": {
        "id": "jgmRYwlXWEX4"
      }
    },
    {
      "cell_type": "code",
      "source": [
        "X=df.iloc[:,1]    #defining X and y\n",
        "y=df.iloc[:,2]"
      ],
      "metadata": {
        "id": "FaIX4S6HZiAB"
      },
      "execution_count": 18,
      "outputs": []
    },
    {
      "cell_type": "code",
      "source": [
        "y"
      ],
      "metadata": {
        "colab": {
          "base_uri": "https://localhost:8080/"
        },
        "id": "pwJzcLCUdtIf",
        "outputId": "b57f0aba-a69d-4b6a-bb84-d8d0519c80e3"
      },
      "execution_count": 43,
      "outputs": [
        {
          "output_type": "execute_result",
          "data": {
            "text/plain": [
              "0     17.59200\n",
              "1      9.13020\n",
              "2     13.66200\n",
              "3     11.85400\n",
              "4      6.82330\n",
              "        ...   \n",
              "92     7.20290\n",
              "93     1.98690\n",
              "94     0.14454\n",
              "95     9.05510\n",
              "96     0.61705\n",
              "Name: Profit_in_10k, Length: 97, dtype: float64"
            ]
          },
          "metadata": {},
          "execution_count": 43
        }
      ]
    },
    {
      "cell_type": "code",
      "source": [
        "x=np.array(X).reshape(-1,1)\n",
        "x"
      ],
      "metadata": {
        "colab": {
          "base_uri": "https://localhost:8080/"
        },
        "id": "3dlkbgwwZ4ma",
        "outputId": "d18f8930-2e2f-4d74-97a5-cc14cbfea267"
      },
      "execution_count": 37,
      "outputs": [
        {
          "output_type": "execute_result",
          "data": {
            "text/plain": [
              "array([[ 6.1101],\n",
              "       [ 5.5277],\n",
              "       [ 8.5186],\n",
              "       [ 7.0032],\n",
              "       [ 5.8598],\n",
              "       [ 8.3829],\n",
              "       [ 7.4764],\n",
              "       [ 8.5781],\n",
              "       [ 6.4862],\n",
              "       [ 5.0546],\n",
              "       [ 5.7107],\n",
              "       [14.164 ],\n",
              "       [ 5.734 ],\n",
              "       [ 8.4084],\n",
              "       [ 5.6407],\n",
              "       [ 5.3794],\n",
              "       [ 6.3654],\n",
              "       [ 5.1301],\n",
              "       [ 6.4296],\n",
              "       [ 7.0708],\n",
              "       [ 6.1891],\n",
              "       [20.27  ],\n",
              "       [ 5.4901],\n",
              "       [ 6.3261],\n",
              "       [ 5.5649],\n",
              "       [18.945 ],\n",
              "       [12.828 ],\n",
              "       [10.957 ],\n",
              "       [13.176 ],\n",
              "       [22.203 ],\n",
              "       [ 5.2524],\n",
              "       [ 6.5894],\n",
              "       [ 9.2482],\n",
              "       [ 5.8918],\n",
              "       [ 8.2111],\n",
              "       [ 7.9334],\n",
              "       [ 8.0959],\n",
              "       [ 5.6063],\n",
              "       [12.836 ],\n",
              "       [ 6.3534],\n",
              "       [ 5.4069],\n",
              "       [ 6.8825],\n",
              "       [11.708 ],\n",
              "       [ 5.7737],\n",
              "       [ 7.8247],\n",
              "       [ 7.0931],\n",
              "       [ 5.0702],\n",
              "       [ 5.8014],\n",
              "       [11.7   ],\n",
              "       [ 5.5416],\n",
              "       [ 7.5402],\n",
              "       [ 5.3077],\n",
              "       [ 7.4239],\n",
              "       [ 7.6031],\n",
              "       [ 6.3328],\n",
              "       [ 6.3589],\n",
              "       [ 6.2742],\n",
              "       [ 5.6397],\n",
              "       [ 9.3102],\n",
              "       [ 9.4536],\n",
              "       [ 8.8254],\n",
              "       [ 5.1793],\n",
              "       [21.279 ],\n",
              "       [14.908 ],\n",
              "       [18.959 ],\n",
              "       [ 7.2182],\n",
              "       [ 8.2951],\n",
              "       [10.236 ],\n",
              "       [ 5.4994],\n",
              "       [20.341 ],\n",
              "       [10.136 ],\n",
              "       [ 7.3345],\n",
              "       [ 6.0062],\n",
              "       [ 7.2259],\n",
              "       [ 5.0269],\n",
              "       [ 6.5479],\n",
              "       [ 7.5386],\n",
              "       [ 5.0365],\n",
              "       [10.274 ],\n",
              "       [ 5.1077],\n",
              "       [ 5.7292],\n",
              "       [ 5.1884],\n",
              "       [ 6.3557],\n",
              "       [ 9.7687],\n",
              "       [ 6.5159],\n",
              "       [ 8.5172],\n",
              "       [ 9.1802],\n",
              "       [ 6.002 ],\n",
              "       [ 5.5204],\n",
              "       [ 5.0594],\n",
              "       [ 5.7077],\n",
              "       [ 7.6366],\n",
              "       [ 5.8707],\n",
              "       [ 5.3054],\n",
              "       [ 8.2934],\n",
              "       [13.394 ],\n",
              "       [ 5.4369]])"
            ]
          },
          "metadata": {},
          "execution_count": 37
        }
      ]
    },
    {
      "cell_type": "code",
      "source": [
        "#fit the model\n",
        "lr=LinearRegression()\n",
        "lr.fit(x,y)\n"
      ],
      "metadata": {
        "id": "_-Z2iJXUWDvk",
        "colab": {
          "base_uri": "https://localhost:8080/"
        },
        "outputId": "64df7fbc-e5c9-46ec-d5c1-8cdf7ab8a0a8"
      },
      "execution_count": 40,
      "outputs": [
        {
          "output_type": "execute_result",
          "data": {
            "text/plain": [
              "LinearRegression()"
            ]
          },
          "metadata": {},
          "execution_count": 40
        }
      ]
    },
    {
      "cell_type": "code",
      "source": [
        "#predict the target values\n",
        "y_pred=lr.predict(x)\n",
        "y_pred"
      ],
      "metadata": {
        "id": "EKb8ME-ma-ex",
        "colab": {
          "base_uri": "https://localhost:8080/"
        },
        "outputId": "863173a0-f82f-4438-e6b1-05d6de3a5adc"
      },
      "execution_count": 42,
      "outputs": [
        {
          "output_type": "execute_result",
          "data": {
            "text/plain": [
              "array([ 3.39377399,  2.6989512 ,  6.26719552,  4.45927234,  3.09515767,\n",
              "        6.10530086,  5.02381586,  6.33818102,  3.84247394,  2.13452698,\n",
              "        2.91727635, 13.00234766,  2.94507404,  6.13572322,  2.833764  ,\n",
              "        2.52202431,  3.69835548,  2.22460102,  3.77494824,  4.53992141,\n",
              "        3.48802365, 20.28701109,  2.65409313,  3.65146926,  2.74333205,\n",
              "       18.70624151, 11.40845471,  9.17628876, 11.82363042, 22.59314512,\n",
              "        2.37050903,  3.96559502,  7.13763287,  3.13333475,  5.90033768,\n",
              "        5.56903223,  5.7629002 ,  2.79272364, 11.41799898,  3.68403908,\n",
              "        2.55483273,  4.31527318, 10.07225703,  2.99243747,  5.43934948,\n",
              "        4.56652606,  2.1531383 ,  3.02548451, 10.06271276,  2.71553436,\n",
              "        5.09993141,  2.43648379,  4.96118159,  5.17497322,  3.65946258,\n",
              "        3.69060076,  3.58955081,  2.83257096,  7.21160096,  7.38268198,\n",
              "        6.63321825,  2.28329828, 21.49078204, 13.88996469, 18.72294398,\n",
              "        4.71577457,  6.0005525 ,  8.3161115 ,  2.66518834, 20.37171648,\n",
              "        8.19680814,  4.85452438,  3.2698178 ,  4.72496093,  2.10147995,\n",
              "        3.91608412,  5.09802255,  2.11293307,  8.36144678,  2.19787707,\n",
              "        2.93934748,  2.29415488,  3.68678305,  7.75860688,  3.87790704,\n",
              "        6.26552528,  7.05650658,  3.26480705,  2.69024205,  2.14025354,\n",
              "        2.91369725,  5.21493985,  3.10816174,  2.43373982,  5.99852435,\n",
              "       12.08371175,  2.59062374])"
            ]
          },
          "metadata": {},
          "execution_count": 42
        }
      ]
    },
    {
      "cell_type": "code",
      "source": [
        "#evalute the model\n",
        "r2_score(y,y_pred)"
      ],
      "metadata": {
        "id": "9mxBzwgnbF3Y",
        "colab": {
          "base_uri": "https://localhost:8080/"
        },
        "outputId": "4d2ef407-dd06-4da3-d520-5bd22b0a58ff"
      },
      "execution_count": 44,
      "outputs": [
        {
          "output_type": "execute_result",
          "data": {
            "text/plain": [
              "0.7020315537841397"
            ]
          },
          "metadata": {},
          "execution_count": 44
        }
      ]
    },
    {
      "cell_type": "code",
      "source": [
        "mean_squared_error(y,y_pred)"
      ],
      "metadata": {
        "colab": {
          "base_uri": "https://localhost:8080/"
        },
        "id": "c89twT2Rd7sr",
        "outputId": "7366821d-06d4-4f04-bcb8-5222a47db082"
      },
      "execution_count": 45,
      "outputs": [
        {
          "output_type": "execute_result",
          "data": {
            "text/plain": [
              "8.953942751950358"
            ]
          },
          "metadata": {},
          "execution_count": 45
        }
      ]
    }
  ]
}